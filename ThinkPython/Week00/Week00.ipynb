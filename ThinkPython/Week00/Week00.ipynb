{
 "cells": [
  {
   "cell_type": "markdown",
   "metadata": {
    "slideshow": {
     "slide_type": "slide"
    }
   },
   "source": [
    "# Think Python: Week 0\n",
    "\n",
    "## Getting Started\n"
   ]
  },
  {
   "cell_type": "markdown",
   "metadata": {
    "slideshow": {
     "slide_type": "subslide"
    }
   },
   "source": [
    "## About These Slides\n",
    "\n",
    "-   Python names and values will look like this inline: `print`\n",
    "-   Python code that's executed interactively will look like this:"
   ]
  },
  {
   "cell_type": "code",
   "execution_count": 33,
   "metadata": {
    "collapsed": false,
    "scrolled": true,
    "slideshow": {
     "slide_type": "fragment"
    }
   },
   "outputs": [
    {
     "ename": "SyntaxError",
     "evalue": "invalid syntax (<ipython-input-33-b8dfc3e0b9ed>, line 1)",
     "output_type": "error",
     "traceback": [
      "\u001b[0;36m  File \u001b[0;32m\"<ipython-input-33-b8dfc3e0b9ed>\"\u001b[0;36m, line \u001b[0;32m1\u001b[0m\n\u001b[0;31m    print $a\u001b[0m\n\u001b[0m          ^\u001b[0m\n\u001b[0;31mSyntaxError\u001b[0m\u001b[0;31m:\u001b[0m invalid syntax\n"
     ]
    }
   ],
   "source": [
    "print $a"
   ]
  },
  {
   "cell_type": "markdown",
   "metadata": {
    "slideshow": {
     "slide_type": "fragment"
    }
   },
   "source": [
    "(yes, this is a syntax error, we'll get to that later)\n",
    "\n",
    "or like this:"
   ]
  },
  {
   "cell_type": "code",
   "execution_count": 34,
   "metadata": {
    "collapsed": false,
    "slideshow": {
     "slide_type": "fragment"
    }
   },
   "outputs": [
    {
     "name": "stdout",
     "output_type": "stream",
     "text": [
      "a\n"
     ]
    }
   ],
   "source": [
    "print 'a'"
   ]
  },
  {
   "cell_type": "markdown",
   "metadata": {
    "slideshow": {
     "slide_type": "subslide"
    }
   },
   "source": [
    "I'll add links for further reading, with challenge levels:\n",
    "- <img src=\"bd.png\" style=\"display: inline;\" /> = a little more challenging\n",
    "- <img src=\"bd.png\" style=\"display: inline;\" /><img src=\"bd.png\" style=\"display: inline;\" />  = pretty tough\n",
    "- <img src=\"bd.png\" style=\"display: inline;\" /><img src=\"bd.png\" style=\"display: inline;\" /><img src=\"bd.png\" style=\"display: inline;\" />  = for more experienced programmers\n",
    "\n",
    "You can download these slides (with hyperlinks) from http://github.com/sboisen/training/ThinkPython/Week00/.\n",
    "\n",
    "Recordings will be posted to I:/LRSInfo/Everyone/Sean Boisen/Think Python 2015.\n"
   ]
  },
  {
   "cell_type": "markdown",
   "metadata": {
    "slideshow": {
     "slide_type": "slide"
    }
   },
   "source": [
    "## Goals for today\n",
    "\n",
    "[comment]: <> (My goal is to always provide these: ask if i don't)\n",
    "\n",
    "* Orientation, expectations, preliminaries\n",
    "* Be able to run Python on your own"
   ]
  },
  {
   "cell_type": "markdown",
   "metadata": {
    "slideshow": {
     "slide_type": "subslide"
    }
   },
   "source": [
    "## Goals for the class\n",
    "\n",
    "* Introduce basic concepts in Computer Science\n",
    "* Provide basic Python proficiency\n",
    "* Help you get started as an independent learner with Python and programming\n",
    "* Have fun, learn to enjoy programming, open some new opportunities\n",
    "* Focus on practical tasks and *getting things done*"
   ]
  },
  {
   "cell_type": "markdown",
   "metadata": {
    "slideshow": {
     "slide_type": "subslide"
    }
   },
   "source": [
    "### Introductions\n",
    "\n",
    "<img src=\"hello.png\" />"
   ]
  },
  {
   "cell_type": "markdown",
   "metadata": {
    "slideshow": {
     "slide_type": "slide"
    }
   },
   "source": [
    "## My Role\n",
    "\n",
    "- More TA than professor\n",
    "- Get you unstuck\n",
    "- Zoom in and zoom out\n",
    "  - Help you find appropriate challenges and solutions\n",
    "- Streamline learning with experience \n",
    "- Connect to the Faithlife context and make things practical\n"
   ]
  },
  {
   "cell_type": "markdown",
   "metadata": {
    "slideshow": {
     "slide_type": "subslide"
    }
   },
   "source": [
    "## My Qualifications\n",
    "\n",
    "<img src=\"att_pc6300_1.jpg\" style=\"float: right;\" />\n",
    "\n",
    "* Intel 8086 (16-bit CPU!)\n",
    "* 8 Mhz CPU (150x more in my pocket today)\n",
    "* 128 Kb RAM \n",
    "* 10 Mb hard drive, 5.25\" floppy\n",
    "* 80x25 text mode, 640x400 graphics mode\n",
    "* ~$3k in the mid 1980s"
   ]
  },
  {
   "cell_type": "markdown",
   "metadata": {
    "slideshow": {
     "slide_type": "subslide"
    }
   },
   "source": [
    "-   No degree in computer science (gasp!)\n",
    "-   BA in anthopology and linguistics (Occidental College)\n",
    "-   MA in computational linguistics (UCLA)\n",
    "-   Coursework in distance education (UMUC)\n",
    "-   Visiting professor at Claremont McKenna College (CA), Nyack College\n",
    "    (DC)"
   ]
  },
  {
   "cell_type": "markdown",
   "metadata": {
    "slideshow": {
     "slide_type": "subslide"
    }
   },
   "source": [
    "![my language experience](languages.jpg)\n",
    "\n",
    "[comment]: <> \"This should encourage you: many programmers are mostly self-taught.\""
   ]
  },
  {
   "cell_type": "markdown",
   "metadata": {
    "slideshow": {
     "slide_type": "slide"
    }
   },
   "source": [
    "<img src=\"7Habits.png\" />"
   ]
  },
  {
   "cell_type": "markdown",
   "metadata": {
    "slideshow": {
     "slide_type": "subslide"
    }
   },
   "source": [
    "### We Learn by Doing\n",
    "\n",
    "> \"Computer science education cannot make anybody an expert programmer any more than studying brushes and pigment can make somebody an expert painter\" \n",
    "> -- Eric Raymond, author of The New Hacker's Dictionary.\n",
    "\n",
    "[comment]: <> \"Me talking is 'education'. You programming is painting.  \"\n"
   ]
  },
  {
   "cell_type": "markdown",
   "metadata": {
    "slideshow": {
     "slide_type": "subslide"
    }
   },
   "source": [
    "### Confusion is the Sweat of Learning\n",
    "\n",
    "<img src=\"makeitstick.jpg\"style=\"float: right;\"/>\n",
    "> The single most important skill for a computer scientist is problem solving. (Ch. 1)\n",
    "\n",
    "* We are *poor judges* of when we are learning well and when we are not\n",
    "* Trying to solve a problem *before being taught the solution* leads to better learning. \n",
    "\n"
   ]
  },
  {
   "cell_type": "markdown",
   "metadata": {
    "slideshow": {
     "slide_type": "subslide"
    }
   },
   "source": [
    "## Your Role\n",
    "<img src='yes-you-can.jpg' style=\"float: right;\"/>\n",
    "\n",
    "* Own your own learning\n",
    "* Read each chapter *before class*\n",
    "* Do exercises *before class*\n",
    "* Bring your questions *to class*"
   ]
  },
  {
   "cell_type": "markdown",
   "metadata": {
    "slideshow": {
     "slide_type": "slide"
    }
   },
   "source": [
    "## Classes and Schedule\n",
    "\n",
    "* Class attendance is your choice\n",
    "* No need to turn in assignments unless you want feedback\n",
    "* We'll use Faithlife to record Frequently Asked Questions and other useful information\n",
    "* There will be some gaps"
   ]
  },
  {
   "cell_type": "markdown",
   "metadata": {
    "slideshow": {
     "slide_type": "subslide"
    }
   },
   "source": [
    "## Getting Set Up\n",
    "\n",
    "* [ActivePython](http://www.activestate.com/activepython/downloads) 2.7 for Windows (not version 3)\n",
    "* Macs come with Python installed\n",
    "  * <img src=\"bd.png\" style=\"display: inline;\" /> If you're serious, you'll eventually want [Homebrew](http://brew.sh/)\n",
    "* Decide on an editing environment\n",
    "  * Plain text\n",
    "  * Tabs vs. spaces\n",
    "  * line numbers\n",
    "  * Preferably Unicode support\n",
    "  * No clue? Try [Sublime](http://www.sublimetext.com/) or IDLE\n",
    "* Bring a laptop to class if at all possible\n",
    "* Demonstration: show the interpreter and run a script."
   ]
  },
  {
   "cell_type": "code",
   "execution_count": 38,
   "metadata": {
    "collapsed": false,
    "slideshow": {
     "slide_type": "fragment"
    }
   },
   "outputs": [
    {
     "name": "stdout",
     "output_type": "stream",
     "text": [
      "hello class!\n"
     ]
    }
   ],
   "source": [
    "print 'hello class!'"
   ]
  },
  {
   "cell_type": "markdown",
   "metadata": {
    "slideshow": {
     "slide_type": "subslide"
    }
   },
   "source": [
    "## How to Get Help\n",
    "\n",
    "[comment]: <> \"There are 50 of you, and only 1 of me: this is a side-task for me too.; It's a very valuable skill to learn to ask for help, and break the 'lone wolf' mentality.; Both you and your friend may learn from this experience\"\n",
    "\n",
    "* First: ask a study buddy\n",
    "* Second: ask on [the Faithlife group for Think Python](https://faithlife.com/think-python/activity)\n",
    "* So-so: send me an email\n",
    "* Better: send me an email like this:\n",
    "\n",
    "    > When I type\n",
    "    > \n",
    "    >      >>> import swampy\n",
    "    >  \n",
    "    >  what I see is\n",
    "    >  \n",
    "    >      Traceback (most recent call last):\n",
    "    >      File \"\\<stdin\\>\", line 1, in \\<module\\>\n",
    "    >      ImportError: No module named swampy\n",
    "    >  \n",
    "    >  What's wrong here?\n",
    "\n",
    "[comment]: <> \"This tells me *exactly* what you're doing, and *exactly* what results you're getting. Critically important: i can try to reproduce your problem\""
   ]
  },
  {
   "cell_type": "markdown",
   "metadata": {
    "slideshow": {
     "slide_type": "subslide"
    }
   },
   "source": [
    "![no instant messenger](no-im.png)\n",
    "\n",
    "[comment]: <> \"Unless you're my boss, there's no good scenario for communicating with me via IM. Instead, i'll probably ignore you.\""
   ]
  },
  {
   "cell_type": "markdown",
   "metadata": {
    "slideshow": {
     "slide_type": "slide"
    }
   },
   "source": [
    "## Why Python?\n",
    "\n",
    "* Readable, compact\n",
    "* [Well-documented](http://docs.python.org/index.html)\n",
    "* Supports interactive evaluation\n",
    "* Portable, open-source\n",
    "* \"batteries included\": lots of standard libraries as well as third-party modules\n",
    "* Well-suited to utility programming\n",
    "* Scales well from beginning to wizard\n"
   ]
  },
  {
   "cell_type": "markdown",
   "metadata": {
    "slideshow": {
     "slide_type": "slide"
    }
   },
   "source": [
    "## 1.3 Errors\n",
    "\n",
    "* Syntax errors are typically obvious once you understand more. Some common ones when starting out:\n",
    "    -   Missing or mismatched quotes\n",
    "    -   Undefined variables\n",
    "    -   Incompatible types for some operation\n",
    "    -   An editor with line numbers will help\n",
    "-   Semantic errors are much trickier. Some common ones when starting\n",
    "    out:\n",
    "    -   You \"know\" what a value is (but you're wrong)\n",
    "    - You misunderstand how a function works\n",
    "    - You think all your data is organized a certain way (but it's not)\n",
    "-   Programming is about **narrowing the gap** between your intentions,\n",
    "    your program, and reality"
   ]
  },
  {
   "cell_type": "markdown",
   "metadata": {
    "slideshow": {
     "slide_type": "slide"
    }
   },
   "source": [
    "## 1.6 Debugging\n",
    "\n",
    "* It's *essential* to work with a computer, typically via the interpreter, until you really know what's happening\n",
    "\n",
    "> Whenever you are experimenting with a new feature, you should try to make mistakes.\n",
    "\n",
    "* *Type it in*: it's more work, but gives you a better feel for what works, and *more immediate feedback on your mistakes* (critical to incremental improvement!)"
   ]
  },
  {
   "cell_type": "markdown",
   "metadata": {
    "slideshow": {
     "slide_type": "slide"
    }
   },
   "source": [
    "### For Next Week\n",
    "\n",
    "* Read chapters 1-2\n",
    "* Make sure you can run Python and type commands to the interpreter\n",
    "* Try doing some math problems, like"
   ]
  },
  {
   "cell_type": "code",
   "execution_count": 39,
   "metadata": {
    "collapsed": false,
    "slideshow": {
     "slide_type": "fragment"
    }
   },
   "outputs": [
    {
     "data": {
      "text/plain": [
       "15"
      ]
     },
     "execution_count": 39,
     "metadata": {},
     "output_type": "execute_result"
    }
   ],
   "source": [
    "2 + 13"
   ]
  },
  {
   "cell_type": "markdown",
   "metadata": {
    "slideshow": {
     "slide_type": "fragment"
    }
   },
   "source": [
    "* Exercise 2-3"
   ]
  },
  {
   "cell_type": "markdown",
   "metadata": {
    "slideshow": {
     "slide_type": "slide"
    }
   },
   "source": [
    "## Additional Resources"
   ]
  },
  {
   "cell_type": "code",
   "execution_count": 37,
   "metadata": {
    "collapsed": false,
    "slideshow": {
     "slide_type": "-"
    }
   },
   "outputs": [],
   "source": [
    "import this"
   ]
  },
  {
   "cell_type": "markdown",
   "metadata": {
    "slideshow": {
     "slide_type": "subslide"
    }
   },
   "source": [
    "* <img src=\"bd.png\" style=\"display: inline;\" /> [Official Python 2.7 Documentation](http://docs.python.org/index.html)\n",
    "* <img src=\"bd.png\" style=\"display: inline;\" /> [How To Ask Questions The Smart Way](http://catb.org/~esr/faqs/smart-questions.html) by Eric Steven Raymond (the Cathedral and the Bazaar)\n",
    "* <img src=\"bd.png\" style=\"display: inline;\" /> Why you can't learn programming quickly: [Teach Yourself Programming in Ten Years](http://norvig.com/21-days.html) by Peter Norvig, head of research at Google \n",
    "* <img src=\"bd.png\" style=\"display: inline;\" /><img src=\"bd.png\" style=\"display: inline;\" /> [Computational Thinking: A Definition](http://www.cs.cmu.edu/~CompThink/resources/TheLinkWing.pdf) by Jeannette Wing, CMU\n",
    "* <img src=\"bd.png\" style=\"display: inline;\" /><img src=\"bd.png\" style=\"display: inline;\" />[Coursera: Programming for Everybody (Python)](https://www.coursera.org/course/pythonlearn)\n",
    "* <img src=\"bd.png\" style=\"display: inline;\" /><img src=\"bd.png\" style=\"display: inline;\" /><img src=\"bd.png\" style=\"display: inline;\" /> [What IDE to use for Python](http://stackoverflow.com/questions/81584/what-ide-to-use-for-python)"
   ]
  },
  {
   "cell_type": "markdown",
   "metadata": {
    "slideshow": {
     "slide_type": "subslide"
    }
   },
   "source": [
    "## About These Slides\n",
    "These slides are expressed in Markdown inside an iPython (Jupyter) notebook. Don't worry if you don't know what these things mean, we'll get to them later on. The key points are:\n",
    "\n",
    "* It's easy to write and read the text, as well as present it as slides.\n",
    "* The slides include the ability to interactively evaluate Python expressions, which we'll use a *lot* in class. \n",
    "* The slides will be available in Github so you can go back to them later, get your own copies, etc. \n",
    "\n",
    "You can download these from http://github.com/sboisen/training/ThinkPython/Week00/\n"
   ]
  }
 ],
 "metadata": {
  "celltoolbar": "Slideshow",
  "kernelspec": {
   "display_name": "Python 2",
   "language": "python",
   "name": "python2"
  },
  "language_info": {
   "codemirror_mode": {
    "name": "ipython",
    "version": 2
   },
   "file_extension": ".py",
   "mimetype": "text/x-python",
   "name": "python",
   "nbconvert_exporter": "python",
   "pygments_lexer": "ipython2",
   "version": "2.7.9"
  }
 },
 "nbformat": 4,
 "nbformat_minor": 0
}
