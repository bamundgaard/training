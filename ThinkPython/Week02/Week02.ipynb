{
 "cells": [
  {
   "cell_type": "markdown",
   "metadata": {
    "slideshow": {
     "slide_type": "slide"
    }
   },
   "source": [
    "# Think Python: Week 02\n",
    "\n",
    "<img src='writing_good_code.png' style=\"float: right;\" />\n",
    "\n",
    "Slides: http://github.com/sboisen/training/ThinkPython/Week02"
   ]
  },
  {
   "cell_type": "code",
   "execution_count": null,
   "metadata": {
    "collapsed": true
   },
   "outputs": [],
   "source": []
  },
  {
   "cell_type": "markdown",
   "metadata": {
    "slideshow": {
     "slide_type": "slide"
    }
   },
   "source": [
    "## Questions from last class or Chapter 2?"
   ]
  },
  {
   "cell_type": "markdown",
   "metadata": {
    "slideshow": {
     "slide_type": "slide"
    }
   },
   "source": [
    "## Goals for today\n",
    "\n",
    "* Understand how functions work\n",
    "  * Defining functions\n",
    "  * Parameters and local variables\n",
    "  * Return values\n",
    "* Understand how to import modules\n",
    "* Introduce new types: function, None"
   ]
  },
  {
   "cell_type": "markdown",
   "metadata": {
    "slideshow": {
     "slide_type": "slide"
    }
   },
   "source": [
    "### Why Functions Matter\n",
    "\n",
    "* Provide a simple name for a complex sequence of statements\n",
    "  * \"Post to the Faithlife Group\"\n",
    "* Write once and re-use many times\n",
    "* Compose different functions\n",
    "* Assemble larger programs\n",
    "* Debug once"
   ]
  },
  {
   "cell_type": "markdown",
   "metadata": {
    "slideshow": {
     "slide_type": "slide"
    }
   },
   "source": [
    "## Anatomy of a Function \n",
    "<img src='function-anatomy.png' />"
   ]
  },
  {
   "cell_type": "code",
   "execution_count": null,
   "metadata": {
    "collapsed": true,
    "slideshow": {
     "slide_type": "subslide"
    }
   },
   "outputs": [],
   "source": [
    "def totalcost(price, quantity):\n",
    "    cost = (price * 0.4) * quantity\n",
    "    shipcost = 3.0 + ((quantity - 1) * 0.75)   \n",
    "    total = cost + shipcost\n",
    "    print 'Cost:', cost\n",
    "    print 'Shipping cost:', shipcost\n",
    "    print 'Total:', total"
   ]
  },
  {
   "cell_type": "code",
   "execution_count": null,
   "metadata": {
    "collapsed": false,
    "slideshow": {
     "slide_type": "subslide"
    }
   },
   "outputs": [],
   "source": [
    "print(totalcost)\n",
    "print(type(totalcost))\n",
    "tc = totalcost\n",
    "print tc"
   ]
  },
  {
   "cell_type": "markdown",
   "metadata": {
    "slideshow": {
     "slide_type": "slide"
    }
   },
   "source": [
    "### Evaluating a Function Definition (Simplified)\n",
    "\n",
    "1. Define the function name as a variable (if not already defined)\n",
    "2. Define a function object\n",
    "3. Assign the value of the function object to the function name\n",
    "\n",
    "(... and a whole lot more housekeeping we don't need to worry about right now)"
   ]
  },
  {
   "cell_type": "code",
   "execution_count": null,
   "metadata": {
    "collapsed": false,
    "slideshow": {
     "slide_type": "subslide"
    }
   },
   "outputs": [],
   "source": [
    "totalcost = 'some var'\n",
    "print(totalcost)\n",
    "print(tc)\n",
    "tc(24.95, 60)"
   ]
  },
  {
   "cell_type": "code",
   "execution_count": null,
   "metadata": {
    "collapsed": false,
    "slideshow": {
     "slide_type": "fragment"
    }
   },
   "outputs": [],
   "source": [
    "totalcost = tc\n",
    "print(totalcost)"
   ]
  },
  {
   "cell_type": "markdown",
   "metadata": {
    "slideshow": {
     "slide_type": "slide"
    }
   },
   "source": [
    "### Calling a Function (Simplified)\n",
    "\n",
    "We call a function using the name followed by an argument list\n",
    "\n",
    "    >>> totalcost(24.95, 60)"
   ]
  },
  {
   "cell_type": "markdown",
   "metadata": {
    "slideshow": {
     "slide_type": "subslide"
    }
   },
   "source": [
    "1. Evaluate the argument list \n",
    "2. Look up the function object for the name\n",
    "4. Assign values from the argument list to the parameters of the function\n",
    "   * `price = 24.95`\n",
    "   * `quantity = 60`\n",
    "5. Execute the statements in the body\n",
    "6. Return a value (if any)\n",
    "7. Undefine local variables"
   ]
  },
  {
   "cell_type": "markdown",
   "metadata": {
    "slideshow": {
     "slide_type": "subslide"
    }
   },
   "source": [
    "* The argument list is evaluated before assigning values to parameters"
   ]
  },
  {
   "cell_type": "code",
   "execution_count": null,
   "metadata": {
    "collapsed": false,
    "slideshow": {
     "slide_type": "fragment"
    }
   },
   "outputs": [],
   "source": [
    "myprice = 5 + (0.10 * 200)\n",
    "totalcost(myprice, 60)"
   ]
  },
  {
   "cell_type": "markdown",
   "metadata": {
    "slideshow": {
     "slide_type": "fragment"
    }
   },
   "source": [
    "> \"The name of the variable we pass as an argument ... has nothing to do with the name of the parameter\""
   ]
  },
  {
   "cell_type": "markdown",
   "metadata": {
    "slideshow": {
     "slide_type": "subslide"
    }
   },
   "source": [
    "* Parameters are only defined within the body of the function\n",
    "* After the function has been executed, the local variables are no longer defined"
   ]
  },
  {
   "cell_type": "code",
   "execution_count": null,
   "metadata": {
    "collapsed": false,
    "slideshow": {
     "slide_type": "fragment"
    }
   },
   "outputs": [],
   "source": [
    "print(price)"
   ]
  },
  {
   "cell_type": "code",
   "execution_count": null,
   "metadata": {
    "collapsed": false,
    "slideshow": {
     "slide_type": "subslide"
    }
   },
   "outputs": [],
   "source": [
    "print(cost)"
   ]
  },
  {
   "cell_type": "markdown",
   "metadata": {
    "slideshow": {
     "slide_type": "fragment"
    }
   },
   "source": [
    "> \"When you create a variable inside a function, it is **local** ...\""
   ]
  },
  {
   "cell_type": "markdown",
   "metadata": {
    "slideshow": {
     "slide_type": "slide"
    }
   },
   "source": [
    "## *All* Functions Return a Value\n",
    "\n",
    "> \"Other functions, like print_twice, perform an action but don’t return a value. They are called void functions.\"\n",
    "\n",
    "* Misleading: they *do* return a value! Better:\n",
    "\n",
    "> Other functions, like print_twice, perform an action but **return the special value None.**\n",
    "\n",
    "The intepreter doesn't display the None value returned by void functions."
   ]
  },
  {
   "cell_type": "code",
   "execution_count": null,
   "metadata": {
    "collapsed": false,
    "slideshow": {
     "slide_type": "subslide"
    }
   },
   "outputs": [],
   "source": [
    "len('Faithlife')"
   ]
  },
  {
   "cell_type": "code",
   "execution_count": null,
   "metadata": {
    "collapsed": true,
    "slideshow": {
     "slide_type": "fragment"
    }
   },
   "outputs": [],
   "source": [
    "def useless(x, y):\n",
    "    z = x + y\n",
    "useless(2, 3)"
   ]
  },
  {
   "cell_type": "markdown",
   "metadata": {
    "slideshow": {
     "slide_type": "subslide"
    }
   },
   "source": [
    "* The `pass` statement does nothing"
   ]
  },
  {
   "cell_type": "code",
   "execution_count": null,
   "metadata": {
    "collapsed": true,
    "slideshow": {
     "slide_type": "fragment"
    }
   },
   "outputs": [],
   "source": [
    "def useless():\n",
    "    pass\n",
    "useless()"
   ]
  },
  {
   "cell_type": "code",
   "execution_count": null,
   "metadata": {
    "collapsed": false,
    "slideshow": {
     "slide_type": "fragment"
    }
   },
   "outputs": [],
   "source": [
    "print(useless())"
   ]
  },
  {
   "cell_type": "markdown",
   "metadata": {
    "slideshow": {
     "slide_type": "subslide"
    }
   },
   "source": [
    "* Why does Python need this do-nothing statement?"
   ]
  },
  {
   "cell_type": "code",
   "execution_count": null,
   "metadata": {
    "collapsed": false,
    "slideshow": {
     "slide_type": "fragment"
    }
   },
   "outputs": [],
   "source": [
    "def more_useless():"
   ]
  },
  {
   "cell_type": "markdown",
   "metadata": {
    "slideshow": {
     "slide_type": "slide"
    }
   },
   "source": [
    "## Function Objects\n",
    "\n",
    "* Making a function object the parameter of another function is *powerful* because it lets you generalize your code\n",
    "* This is a more advanced feature, but an important one. "
   ]
  },
  {
   "cell_type": "markdown",
   "metadata": {
    "slideshow": {
     "slide_type": "subslide"
    }
   },
   "source": [
    "Ben's definition:\n",
    "\n",
    "    def do_four(): \n",
    "        do_twice(print_twice, 'spam')\n",
    "        do_twice(print_twice, 'spam')\n",
    "\n",
    "Allen Downey's definition:\n",
    "\n",
    "    def do_four(f, arg): \n",
    "        do_twice(f, arg)\n",
    "        do_twice(f, arg)\n",
    "        \n",
    "Downey's definition can do *anything* four times with *any* argument: Ben's can only do `print_twice` with a specific argument."
   ]
  },
  {
   "cell_type": "markdown",
   "metadata": {
    "slideshow": {
     "slide_type": "slide"
    }
   },
   "source": [
    "## Importing modules\n",
    "\n",
    "-   Modules are a key source of Python's strength (\"batteries included\")\n",
    "    -   Many **standard** modules that are worth learning, all\n",
    "        documented at http://docs.python.org/library/index.html\n",
    "    -   Standard modules have good documentation: try `help(math)`\n",
    "    -   Many, many **third-party modules** that *may* be worth using\n",
    "* Modules are an important way to reuse code"
   ]
  },
  {
   "cell_type": "markdown",
   "metadata": {
    "slideshow": {
     "slide_type": "subslide"
    }
   },
   "source": [
    "* Best practice: \n",
    "  * `from math import sqrt`\n",
    "  * `import math`\n",
    "* Okay:\n",
    "  * `from math import *`"
   ]
  },
  {
   "cell_type": "markdown",
   "metadata": {
    "slideshow": {
     "slide_type": "subslide"
    }
   },
   "source": [
    "* <img src=\"bd.png\" style=\"display: inline;\" />Do modules have a type? What is it? "
   ]
  },
  {
   "cell_type": "code",
   "execution_count": null,
   "metadata": {
    "collapsed": false,
    "slideshow": {
     "slide_type": "fragment"
    }
   },
   "outputs": [],
   "source": [
    "import math\n",
    "print(type(math))"
   ]
  },
  {
   "cell_type": "markdown",
   "metadata": {
    "slideshow": {
     "slide_type": "subslide"
    }
   },
   "source": [
    "### Importing a Module May ...\n",
    "\n",
    "* Define a function, or\n",
    "* Call a function, or\n",
    "* Both\n",
    "\n",
    "(and define variables, evaluate expressions, ...)"
   ]
  },
  {
   "cell_type": "code",
   "execution_count": null,
   "metadata": {
    "collapsed": false,
    "slideshow": {
     "slide_type": "fragment"
    }
   },
   "outputs": [],
   "source": [
    "print_price(200)\n",
    "\n",
    "def print_price(n_pages):\n",
    "    print 'Price:', 5 + (0.10 * n_pages)"
   ]
  },
  {
   "cell_type": "code",
   "execution_count": null,
   "metadata": {
    "collapsed": false,
    "slideshow": {
     "slide_type": "fragment"
    }
   },
   "outputs": [],
   "source": [
    "def print_price(n_pages):\n",
    "    print 'Price:', 5 + (0.10 * n_pages)\n",
    "    \n",
    "#print_price(200)"
   ]
  },
  {
   "cell_type": "markdown",
   "metadata": {
    "slideshow": {
     "slide_type": "slide"
    }
   },
   "source": [
    "## Quiz"
   ]
  },
  {
   "cell_type": "code",
   "execution_count": null,
   "metadata": {
    "collapsed": false,
    "slideshow": {
     "slide_type": "subslide"
    }
   },
   "outputs": [],
   "source": [
    "p = print_price(200)\n",
    "print(p)"
   ]
  },
  {
   "cell_type": "code",
   "execution_count": null,
   "metadata": {
    "collapsed": false,
    "slideshow": {
     "slide_type": "subslide"
    }
   },
   "outputs": [],
   "source": [
    "print(type(print_price))"
   ]
  },
  {
   "cell_type": "code",
   "execution_count": null,
   "metadata": {
    "collapsed": false,
    "slideshow": {
     "slide_type": "subslide"
    }
   },
   "outputs": [],
   "source": [
    "print(type(print_price(200)))"
   ]
  },
  {
   "cell_type": "code",
   "execution_count": null,
   "metadata": {
    "collapsed": false,
    "slideshow": {
     "slide_type": "subslide"
    }
   },
   "outputs": [],
   "source": [
    "int('3.0')"
   ]
  },
  {
   "cell_type": "code",
   "execution_count": null,
   "metadata": {
    "collapsed": false,
    "slideshow": {
     "slide_type": "subslide"
    }
   },
   "outputs": [],
   "source": [
    "print(len(3))"
   ]
  },
  {
   "cell_type": "code",
   "execution_count": null,
   "metadata": {
    "collapsed": false,
    "slideshow": {
     "slide_type": "fragment"
    }
   },
   "outputs": [],
   "source": [
    "print(len(''))"
   ]
  },
  {
   "cell_type": "code",
   "execution_count": null,
   "metadata": {
    "collapsed": false,
    "slideshow": {
     "slide_type": "subslide"
    }
   },
   "outputs": [],
   "source": [
    "print(len())"
   ]
  },
  {
   "cell_type": "code",
   "execution_count": null,
   "metadata": {
    "collapsed": false,
    "slideshow": {
     "slide_type": "subslide"
    }
   },
   "outputs": [],
   "source": [
    "type(none)"
   ]
  },
  {
   "cell_type": "code",
   "execution_count": null,
   "metadata": {
    "collapsed": false,
    "slideshow": {
     "slide_type": "subslide"
    }
   },
   "outputs": [],
   "source": [
    "print(type('None'))"
   ]
  },
  {
   "cell_type": "code",
   "execution_count": null,
   "metadata": {
    "collapsed": false,
    "slideshow": {
     "slide_type": "subslide"
    }
   },
   "outputs": [],
   "source": [
    "type(def)"
   ]
  },
  {
   "cell_type": "code",
   "execution_count": null,
   "metadata": {
    "collapsed": false,
    "slideshow": {
     "slide_type": "subslide"
    }
   },
   "outputs": [],
   "source": [
    "type(_def)"
   ]
  },
  {
   "cell_type": "code",
   "execution_count": null,
   "metadata": {
    "collapsed": false,
    "slideshow": {
     "slide_type": "subslide"
    }
   },
   "outputs": [],
   "source": [
    "param = 12\n",
    "def add1(p):\n",
    "    p = p + 1\n",
    "    print(p)\n",
    "add1(param)"
   ]
  },
  {
   "cell_type": "code",
   "execution_count": null,
   "metadata": {
    "collapsed": false,
    "slideshow": {
     "slide_type": "fragment"
    }
   },
   "outputs": [],
   "source": [
    "print(param)"
   ]
  },
  {
   "cell_type": "markdown",
   "metadata": {
    "slideshow": {
     "slide_type": "slide"
    }
   },
   "source": [
    "### For Next Week\n",
    "\n",
    "* Read chapter 4\n",
    "* Don't be scared by the math bits: focus on \n",
    "  * getting your code to run\n",
    "  * understanding functions and arguments, and related concepts"
   ]
  },
  {
   "cell_type": "markdown",
   "metadata": {},
   "source": [
    "## Additional Resources\n",
    "\n",
    "* [Coding Explained in 25 Profound Comics — Medium](https://medium.com/@FreeCodeCamp/coding-explained-in-25-profound-comics-8847ea03819c?imm_mid=0d2bc5)"
   ]
  }
 ],
 "metadata": {
  "celltoolbar": "Slideshow",
  "kernelspec": {
   "display_name": "Python 2",
   "language": "python",
   "name": "python2"
  },
  "language_info": {
   "codemirror_mode": {
    "name": "ipython",
    "version": 2
   },
   "file_extension": ".py",
   "mimetype": "text/x-python",
   "name": "python",
   "nbconvert_exporter": "python",
   "pygments_lexer": "ipython2",
   "version": "2.7.9"
  }
 },
 "nbformat": 4,
 "nbformat_minor": 0
}
